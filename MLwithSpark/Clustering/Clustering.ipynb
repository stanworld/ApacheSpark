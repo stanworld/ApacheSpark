{
 "cells": [
  {
   "cell_type": "code",
   "execution_count": 1,
   "metadata": {
    "collapsed": true
   },
   "outputs": [],
   "source": [
    "movies = sc.textFile(\"/home/stan/spark_data/ml-100k/u.item\")"
   ]
  },
  {
   "cell_type": "code",
   "execution_count": 2,
   "metadata": {
    "collapsed": false
   },
   "outputs": [
    {
     "data": {
      "text/plain": [
       "u'1|Toy Story (1995)|01-Jan-1995||http://us.imdb.com/M/title-exact?Toy%20Story%20(1995)|0|0|0|1|1|1|0|0|0|0|0|0|0|0|0|0|0|0|0'"
      ]
     },
     "execution_count": 2,
     "metadata": {},
     "output_type": "execute_result"
    }
   ],
   "source": [
    "movies.first()"
   ]
  },
  {
   "cell_type": "code",
   "execution_count": 3,
   "metadata": {
    "collapsed": true
   },
   "outputs": [],
   "source": [
    "genres = sc.textFile(\"/home/stan/spark_data/ml-100k/u.genre\")"
   ]
  },
  {
   "cell_type": "code",
   "execution_count": 4,
   "metadata": {
    "collapsed": false
   },
   "outputs": [
    {
     "data": {
      "text/plain": [
       "[u'unknown|0', u'Action|1', u'Adventure|2', u'Animation|3', u\"Children's|4\"]"
      ]
     },
     "execution_count": 4,
     "metadata": {},
     "output_type": "execute_result"
    }
   ],
   "source": [
    "genres.take(5)"
   ]
  },
  {
   "cell_type": "code",
   "execution_count": 31,
   "metadata": {
    "collapsed": false
   },
   "outputs": [],
   "source": [
    "genreMap = genres.filter(lambda x: not(x==\"\")).map(lambda line: line.split(\"|\")).map(lambda x: (x[1],x[0])).collectAsMap()"
   ]
  },
  {
   "cell_type": "code",
   "execution_count": 32,
   "metadata": {
    "collapsed": false
   },
   "outputs": [
    {
     "data": {
      "text/plain": [
       "{u'0': u'unknown',\n",
       " u'1': u'Action',\n",
       " u'10': u'Film-Noir',\n",
       " u'11': u'Horror',\n",
       " u'12': u'Musical',\n",
       " u'13': u'Mystery',\n",
       " u'14': u'Romance',\n",
       " u'15': u'Sci-Fi',\n",
       " u'16': u'Thriller',\n",
       " u'17': u'War',\n",
       " u'18': u'Western',\n",
       " u'2': u'Adventure',\n",
       " u'3': u'Animation',\n",
       " u'4': u\"Children's\",\n",
       " u'5': u'Comedy',\n",
       " u'6': u'Crime',\n",
       " u'7': u'Documentary',\n",
       " u'8': u'Drama',\n",
       " u'9': u'Fantasy'}"
      ]
     },
     "execution_count": 32,
     "metadata": {},
     "output_type": "execute_result"
    }
   ],
   "source": [
    "genreMap"
   ]
  },
  {
   "cell_type": "code",
   "execution_count": 13,
   "metadata": {
    "collapsed": false
   },
   "outputs": [
    {
     "data": {
      "text/plain": [
       "[u'unknown|0',\n",
       " u'Action|1',\n",
       " u'Adventure|2',\n",
       " u'Animation|3',\n",
       " u\"Children's|4\",\n",
       " u'Comedy|5',\n",
       " u'Crime|6',\n",
       " u'Documentary|7',\n",
       " u'Drama|8',\n",
       " u'Fantasy|9',\n",
       " u'Film-Noir|10',\n",
       " u'Horror|11',\n",
       " u'Musical|12',\n",
       " u'Mystery|13',\n",
       " u'Romance|14',\n",
       " u'Sci-Fi|15',\n",
       " u'Thriller|16',\n",
       " u'War|17',\n",
       " u'Western|18',\n",
       " u'']"
      ]
     },
     "execution_count": 13,
     "metadata": {},
     "output_type": "execute_result"
    }
   ],
   "source": [
    "genres.collect()"
   ]
  },
  {
   "cell_type": "code",
   "execution_count": null,
   "metadata": {
    "collapsed": true
   },
   "outputs": [],
   "source": []
  }
 ],
 "metadata": {
  "kernelspec": {
   "display_name": "Python 2",
   "language": "python",
   "name": "python2"
  },
  "language_info": {
   "codemirror_mode": {
    "name": "ipython",
    "version": 2
   },
   "file_extension": ".py",
   "mimetype": "text/x-python",
   "name": "python",
   "nbconvert_exporter": "python",
   "pygments_lexer": "ipython2",
   "version": "2.7.10"
  }
 },
 "nbformat": 4,
 "nbformat_minor": 0
}
